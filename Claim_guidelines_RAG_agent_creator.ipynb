{
 "cells": [
  {
   "cell_type": "code",
   "execution_count": 6,
   "id": "bc6fc05e-9237-4af1-aaf0-db2e6756f861",
   "metadata": {},
   "outputs": [],
   "source": [
    "# Copyright 2023 Google LLC\n",
    "#\n",
    "# Licensed under the Apache License, Version 2.0 (the \"License\");\n",
    "# you may not use this file except in compliance with the License.\n",
    "# You may obtain a copy of the License at\n",
    "#\n",
    "#     https://www.apache.org/licenses/LICENSE-2.0\n",
    "#\n",
    "# Unless required by applicable law or agreed to in writing, software\n",
    "# distributed under the License is distributed on an \"AS IS\" BASIS,\n",
    "# WITHOUT WARRANTIES OR CONDITIONS OF ANY KIND, either express or implied.\n",
    "# See the License for the specific language governing permissions and\n",
    "# limitations under the License."
   ]
  },
  {
   "cell_type": "markdown",
   "id": "15f3fc1c-7e0b-4df2-b03d-424e8eb23c83",
   "metadata": {},
   "source": [
    "# Retrieval Augmented Generation (RAG) with Vertex AI Search"
   ]
  },
  {
   "cell_type": "markdown",
   "id": "575d4a65-9354-424b-8e85-4373dcc8c30e",
   "metadata": {
    "tags": []
   },
   "source": [
    "## Before you begin\n",
    "\n",
    "### Install dependencies\n",
    "\n",
    "We will first need to install and upgrade the Google Cloud Discovery Engine library. Once the library is installed, restart the kernel so that you can use the updated packages"
   ]
  },
  {
   "cell_type": "code",
   "execution_count": 7,
   "id": "cf4fb700-fb8f-4fba-9bba-4f7ee1ef232b",
   "metadata": {
    "scrolled": true,
    "tags": []
   },
   "outputs": [],
   "source": [
    "!pip install -q --upgrade google-cloud-discoveryengine"
   ]
  },
  {
   "cell_type": "markdown",
   "id": "cfa55de9-cd40-4a95-a371-250f27bc914f",
   "metadata": {
    "tags": []
   },
   "source": [
    "### Import libraries and set environment variables"
   ]
  },
  {
   "cell_type": "code",
   "execution_count": 8,
   "id": "a20fd3ef-f378-4c5b-9010-cb704d0c4f86",
   "metadata": {
    "tags": []
   },
   "outputs": [],
   "source": [
    "from typing import Optional\n",
    "\n",
    "from google.api_core.client_options import ClientOptions\n",
    "from google.cloud import discoveryengine\n",
    "\n",
    "from google.cloud import discoveryengine_v1alpha as discoveryengine\n",
    "from google.api_core.client_options import ClientOptions\n",
    "\n",
    "import socket\n",
    "import re"
   ]
  },
  {
   "cell_type": "code",
   "execution_count": 20,
   "id": "f40d712d-39ae-4846-925b-7b772d05e397",
   "metadata": {
    "tags": []
   },
   "outputs": [
    {
     "name": "stdout",
     "output_type": "stream",
     "text": [
      "Project ID: my-project-0004-346516\n",
      "GCS Bucket URI: gs://my-project-0004-346516-pruclaim\n"
     ]
    }
   ],
   "source": [
    "UNIQUE_PREFIX = \"pru-claim-guides\"\n",
    "UNIQUE_PREFIX = re.sub('[^A-Za-z0-9]+', '', UNIQUE_PREFIX)[:-6]\n",
    "\n",
    "# Cloud project id.\n",
    "PROJECT_IDS = !(gcloud config get-value core/project)\n",
    "PROJECT_ID = PROJECT_IDS[0]  # @param {type:\"string\"}\n",
    "\n",
    "# The Cloud Storage bucket for storing experiments output.\n",
    "# Remove prefix gs://, e.g. foo_bucket.\n",
    "GCS_BUCKET_LOCATION = \"us-central1\"\n",
    "REGION = 'us-central1'\n",
    "\n",
    "PROJECT_ID_PREFIX = PROJECT_ID #[:-8]\n",
    "GCS_BUCKET_URI = f\"gs://{PROJECT_ID_PREFIX}-{UNIQUE_PREFIX}\"\n",
    "\n",
    "# print variables for verification\n",
    "print(f\"Project ID: {PROJECT_ID}\")\n",
    "print(f\"GCS Bucket URI: {GCS_BUCKET_URI}\")"
   ]
  },
  {
   "cell_type": "code",
   "execution_count": 21,
   "id": "4c7d117a-2210-418c-b661-041979ee0747",
   "metadata": {
    "scrolled": true,
    "tags": []
   },
   "outputs": [
    {
     "name": "stdout",
     "output_type": "stream",
     "text": [
      "Note: you may need to restart the kernel to use updated packages.\n",
      "Requirement already satisfied: google-cloud-discoveryengine in /opt/conda/envs/pytorch/lib/python3.10/site-packages (0.11.14)\n",
      "Requirement already satisfied: google-api-core!=2.0.*,!=2.1.*,!=2.10.*,!=2.2.*,!=2.3.*,!=2.4.*,!=2.5.*,!=2.6.*,!=2.7.*,!=2.8.*,!=2.9.*,<3.0.0dev,>=1.34.1 in /opt/conda/envs/pytorch/lib/python3.10/site-packages (from google-api-core[grpc]!=2.0.*,!=2.1.*,!=2.10.*,!=2.2.*,!=2.3.*,!=2.4.*,!=2.5.*,!=2.6.*,!=2.7.*,!=2.8.*,!=2.9.*,<3.0.0dev,>=1.34.1->google-cloud-discoveryengine) (2.21.0)\n",
      "Requirement already satisfied: google-auth!=2.24.0,!=2.25.0,<3.0.0dev,>=2.14.1 in /opt/conda/envs/pytorch/lib/python3.10/site-packages (from google-cloud-discoveryengine) (2.35.0)\n",
      "Requirement already satisfied: proto-plus<2.0.0dev,>=1.22.3 in /opt/conda/envs/pytorch/lib/python3.10/site-packages (from google-cloud-discoveryengine) (1.24.0)\n",
      "Requirement already satisfied: protobuf!=4.21.0,!=4.21.1,!=4.21.2,!=4.21.3,!=4.21.4,!=4.21.5,<6.0.0dev,>=3.20.2 in /opt/conda/envs/pytorch/lib/python3.10/site-packages (from google-cloud-discoveryengine) (4.25.5)\n",
      "Requirement already satisfied: googleapis-common-protos<2.0.dev0,>=1.56.2 in /opt/conda/envs/pytorch/lib/python3.10/site-packages (from google-api-core!=2.0.*,!=2.1.*,!=2.10.*,!=2.2.*,!=2.3.*,!=2.4.*,!=2.5.*,!=2.6.*,!=2.7.*,!=2.8.*,!=2.9.*,<3.0.0dev,>=1.34.1->google-api-core[grpc]!=2.0.*,!=2.1.*,!=2.10.*,!=2.2.*,!=2.3.*,!=2.4.*,!=2.5.*,!=2.6.*,!=2.7.*,!=2.8.*,!=2.9.*,<3.0.0dev,>=1.34.1->google-cloud-discoveryengine) (1.65.0)\n",
      "Requirement already satisfied: requests<3.0.0.dev0,>=2.18.0 in /opt/conda/envs/pytorch/lib/python3.10/site-packages (from google-api-core!=2.0.*,!=2.1.*,!=2.10.*,!=2.2.*,!=2.3.*,!=2.4.*,!=2.5.*,!=2.6.*,!=2.7.*,!=2.8.*,!=2.9.*,<3.0.0dev,>=1.34.1->google-api-core[grpc]!=2.0.*,!=2.1.*,!=2.10.*,!=2.2.*,!=2.3.*,!=2.4.*,!=2.5.*,!=2.6.*,!=2.7.*,!=2.8.*,!=2.9.*,<3.0.0dev,>=1.34.1->google-cloud-discoveryengine) (2.32.3)\n",
      "Requirement already satisfied: grpcio<2.0dev,>=1.33.2 in /opt/conda/envs/pytorch/lib/python3.10/site-packages (from google-api-core[grpc]!=2.0.*,!=2.1.*,!=2.10.*,!=2.2.*,!=2.3.*,!=2.4.*,!=2.5.*,!=2.6.*,!=2.7.*,!=2.8.*,!=2.9.*,<3.0.0dev,>=1.34.1->google-cloud-discoveryengine) (1.66.1)\n",
      "Requirement already satisfied: grpcio-status<2.0.dev0,>=1.33.2 in /opt/conda/envs/pytorch/lib/python3.10/site-packages (from google-api-core[grpc]!=2.0.*,!=2.1.*,!=2.10.*,!=2.2.*,!=2.3.*,!=2.4.*,!=2.5.*,!=2.6.*,!=2.7.*,!=2.8.*,!=2.9.*,<3.0.0dev,>=1.34.1->google-cloud-discoveryengine) (1.48.2)\n",
      "Requirement already satisfied: cachetools<6.0,>=2.0.0 in /opt/conda/envs/pytorch/lib/python3.10/site-packages (from google-auth!=2.24.0,!=2.25.0,<3.0.0dev,>=2.14.1->google-cloud-discoveryengine) (5.5.0)\n",
      "Requirement already satisfied: pyasn1-modules>=0.2.1 in /opt/conda/envs/pytorch/lib/python3.10/site-packages (from google-auth!=2.24.0,!=2.25.0,<3.0.0dev,>=2.14.1->google-cloud-discoveryengine) (0.4.1)\n",
      "Requirement already satisfied: rsa<5,>=3.1.4 in /opt/conda/envs/pytorch/lib/python3.10/site-packages (from google-auth!=2.24.0,!=2.25.0,<3.0.0dev,>=2.14.1->google-cloud-discoveryengine) (4.9)\n",
      "Requirement already satisfied: pyasn1<0.7.0,>=0.4.6 in /opt/conda/envs/pytorch/lib/python3.10/site-packages (from pyasn1-modules>=0.2.1->google-auth!=2.24.0,!=2.25.0,<3.0.0dev,>=2.14.1->google-cloud-discoveryengine) (0.6.1)\n",
      "Requirement already satisfied: charset-normalizer<4,>=2 in /opt/conda/envs/pytorch/lib/python3.10/site-packages (from requests<3.0.0.dev0,>=2.18.0->google-api-core!=2.0.*,!=2.1.*,!=2.10.*,!=2.2.*,!=2.3.*,!=2.4.*,!=2.5.*,!=2.6.*,!=2.7.*,!=2.8.*,!=2.9.*,<3.0.0dev,>=1.34.1->google-api-core[grpc]!=2.0.*,!=2.1.*,!=2.10.*,!=2.2.*,!=2.3.*,!=2.4.*,!=2.5.*,!=2.6.*,!=2.7.*,!=2.8.*,!=2.9.*,<3.0.0dev,>=1.34.1->google-cloud-discoveryengine) (3.4.0)\n",
      "Requirement already satisfied: idna<4,>=2.5 in /opt/conda/envs/pytorch/lib/python3.10/site-packages (from requests<3.0.0.dev0,>=2.18.0->google-api-core!=2.0.*,!=2.1.*,!=2.10.*,!=2.2.*,!=2.3.*,!=2.4.*,!=2.5.*,!=2.6.*,!=2.7.*,!=2.8.*,!=2.9.*,<3.0.0dev,>=1.34.1->google-api-core[grpc]!=2.0.*,!=2.1.*,!=2.10.*,!=2.2.*,!=2.3.*,!=2.4.*,!=2.5.*,!=2.6.*,!=2.7.*,!=2.8.*,!=2.9.*,<3.0.0dev,>=1.34.1->google-cloud-discoveryengine) (3.10)\n",
      "Requirement already satisfied: urllib3<3,>=1.21.1 in /opt/conda/envs/pytorch/lib/python3.10/site-packages (from requests<3.0.0.dev0,>=2.18.0->google-api-core!=2.0.*,!=2.1.*,!=2.10.*,!=2.2.*,!=2.3.*,!=2.4.*,!=2.5.*,!=2.6.*,!=2.7.*,!=2.8.*,!=2.9.*,<3.0.0dev,>=1.34.1->google-api-core[grpc]!=2.0.*,!=2.1.*,!=2.10.*,!=2.2.*,!=2.3.*,!=2.4.*,!=2.5.*,!=2.6.*,!=2.7.*,!=2.8.*,!=2.9.*,<3.0.0dev,>=1.34.1->google-cloud-discoveryengine) (2.2.3)\n",
      "Requirement already satisfied: certifi>=2017.4.17 in /opt/conda/envs/pytorch/lib/python3.10/site-packages (from requests<3.0.0.dev0,>=2.18.0->google-api-core!=2.0.*,!=2.1.*,!=2.10.*,!=2.2.*,!=2.3.*,!=2.4.*,!=2.5.*,!=2.6.*,!=2.7.*,!=2.8.*,!=2.9.*,<3.0.0dev,>=1.34.1->google-api-core[grpc]!=2.0.*,!=2.1.*,!=2.10.*,!=2.2.*,!=2.3.*,!=2.4.*,!=2.5.*,!=2.6.*,!=2.7.*,!=2.8.*,!=2.9.*,<3.0.0dev,>=1.34.1->google-cloud-discoveryengine) (2024.8.30)\n",
      "Note: you may need to restart the kernel to use updated packages.\n",
      "Requirement already satisfied: langchain_google_community in /opt/conda/envs/pytorch/lib/python3.10/site-packages (2.0.2)\n",
      "Requirement already satisfied: google-api-core<3.0.0,>=2.17.1 in /opt/conda/envs/pytorch/lib/python3.10/site-packages (from langchain_google_community) (2.21.0)\n",
      "Requirement already satisfied: google-api-python-client<3.0.0,>=2.122.0 in /opt/conda/envs/pytorch/lib/python3.10/site-packages (from langchain_google_community) (2.154.0)\n",
      "Requirement already satisfied: google-cloud-core<3.0.0,>=2.4.1 in /opt/conda/envs/pytorch/lib/python3.10/site-packages (from langchain_google_community) (2.4.1)\n",
      "Requirement already satisfied: grpcio<2.0.0,>=1.62.0 in /opt/conda/envs/pytorch/lib/python3.10/site-packages (from langchain_google_community) (1.66.1)\n",
      "Requirement already satisfied: langchain-community<0.4.0,>=0.3.0 in /opt/conda/envs/pytorch/lib/python3.10/site-packages (from langchain_google_community) (0.3.3)\n",
      "Requirement already satisfied: langchain-core<0.4,>=0.3.0 in /opt/conda/envs/pytorch/lib/python3.10/site-packages (from langchain_google_community) (0.3.31)\n",
      "Requirement already satisfied: googleapis-common-protos<2.0.dev0,>=1.56.2 in /opt/conda/envs/pytorch/lib/python3.10/site-packages (from google-api-core<3.0.0,>=2.17.1->langchain_google_community) (1.65.0)\n",
      "Requirement already satisfied: protobuf!=3.20.0,!=3.20.1,!=4.21.0,!=4.21.1,!=4.21.2,!=4.21.3,!=4.21.4,!=4.21.5,<6.0.0.dev0,>=3.19.5 in /opt/conda/envs/pytorch/lib/python3.10/site-packages (from google-api-core<3.0.0,>=2.17.1->langchain_google_community) (4.25.5)\n",
      "Requirement already satisfied: proto-plus<2.0.0dev,>=1.22.3 in /opt/conda/envs/pytorch/lib/python3.10/site-packages (from google-api-core<3.0.0,>=2.17.1->langchain_google_community) (1.24.0)\n",
      "Requirement already satisfied: google-auth<3.0.dev0,>=2.14.1 in /opt/conda/envs/pytorch/lib/python3.10/site-packages (from google-api-core<3.0.0,>=2.17.1->langchain_google_community) (2.35.0)\n",
      "Requirement already satisfied: requests<3.0.0.dev0,>=2.18.0 in /opt/conda/envs/pytorch/lib/python3.10/site-packages (from google-api-core<3.0.0,>=2.17.1->langchain_google_community) (2.32.3)\n",
      "Requirement already satisfied: httplib2<1.dev0,>=0.19.0 in /opt/conda/envs/pytorch/lib/python3.10/site-packages (from google-api-python-client<3.0.0,>=2.122.0->langchain_google_community) (0.22.0)\n",
      "Requirement already satisfied: google-auth-httplib2<1.0.0,>=0.2.0 in /opt/conda/envs/pytorch/lib/python3.10/site-packages (from google-api-python-client<3.0.0,>=2.122.0->langchain_google_community) (0.2.0)\n",
      "Requirement already satisfied: uritemplate<5,>=3.0.1 in /opt/conda/envs/pytorch/lib/python3.10/site-packages (from google-api-python-client<3.0.0,>=2.122.0->langchain_google_community) (3.0.1)\n",
      "Requirement already satisfied: PyYAML>=5.3 in /opt/conda/envs/pytorch/lib/python3.10/site-packages (from langchain-community<0.4.0,>=0.3.0->langchain_google_community) (6.0.2)\n",
      "Requirement already satisfied: SQLAlchemy<3,>=1.4 in /opt/conda/envs/pytorch/lib/python3.10/site-packages (from langchain-community<0.4.0,>=0.3.0->langchain_google_community) (2.0.35)\n",
      "Requirement already satisfied: aiohttp<4.0.0,>=3.8.3 in /opt/conda/envs/pytorch/lib/python3.10/site-packages (from langchain-community<0.4.0,>=0.3.0->langchain_google_community) (3.11.11)\n",
      "Requirement already satisfied: dataclasses-json<0.7,>=0.5.7 in /opt/conda/envs/pytorch/lib/python3.10/site-packages (from langchain-community<0.4.0,>=0.3.0->langchain_google_community) (0.6.7)\n",
      "Requirement already satisfied: langchain<0.4.0,>=0.3.4 in /opt/conda/envs/pytorch/lib/python3.10/site-packages (from langchain-community<0.4.0,>=0.3.0->langchain_google_community) (0.3.4)\n",
      "Requirement already satisfied: langsmith<0.2.0,>=0.1.125 in /opt/conda/envs/pytorch/lib/python3.10/site-packages (from langchain-community<0.4.0,>=0.3.0->langchain_google_community) (0.1.132)\n",
      "Requirement already satisfied: numpy<2,>=1 in /opt/conda/envs/pytorch/lib/python3.10/site-packages (from langchain-community<0.4.0,>=0.3.0->langchain_google_community) (1.26.4)\n",
      "Requirement already satisfied: pydantic-settings<3.0.0,>=2.4.0 in /opt/conda/envs/pytorch/lib/python3.10/site-packages (from langchain-community<0.4.0,>=0.3.0->langchain_google_community) (2.6.0)\n",
      "Requirement already satisfied: tenacity!=8.4.0,<10,>=8.1.0 in /opt/conda/envs/pytorch/lib/python3.10/site-packages (from langchain-community<0.4.0,>=0.3.0->langchain_google_community) (8.5.0)\n",
      "Requirement already satisfied: jsonpatch<2.0,>=1.33 in /opt/conda/envs/pytorch/lib/python3.10/site-packages (from langchain-core<0.4,>=0.3.0->langchain_google_community) (1.33)\n",
      "Requirement already satisfied: packaging<25,>=23.2 in /opt/conda/envs/pytorch/lib/python3.10/site-packages (from langchain-core<0.4,>=0.3.0->langchain_google_community) (24.1)\n",
      "Requirement already satisfied: pydantic<3.0.0,>=2.5.2 in /opt/conda/envs/pytorch/lib/python3.10/site-packages (from langchain-core<0.4,>=0.3.0->langchain_google_community) (2.9.2)\n",
      "Requirement already satisfied: typing-extensions>=4.7 in /opt/conda/envs/pytorch/lib/python3.10/site-packages (from langchain-core<0.4,>=0.3.0->langchain_google_community) (4.12.2)\n",
      "Requirement already satisfied: aiohappyeyeballs>=2.3.0 in /opt/conda/envs/pytorch/lib/python3.10/site-packages (from aiohttp<4.0.0,>=3.8.3->langchain-community<0.4.0,>=0.3.0->langchain_google_community) (2.4.3)\n",
      "Requirement already satisfied: aiosignal>=1.1.2 in /opt/conda/envs/pytorch/lib/python3.10/site-packages (from aiohttp<4.0.0,>=3.8.3->langchain-community<0.4.0,>=0.3.0->langchain_google_community) (1.3.1)\n",
      "Requirement already satisfied: async-timeout<6.0,>=4.0 in /opt/conda/envs/pytorch/lib/python3.10/site-packages (from aiohttp<4.0.0,>=3.8.3->langchain-community<0.4.0,>=0.3.0->langchain_google_community) (4.0.3)\n",
      "Requirement already satisfied: attrs>=17.3.0 in /opt/conda/envs/pytorch/lib/python3.10/site-packages (from aiohttp<4.0.0,>=3.8.3->langchain-community<0.4.0,>=0.3.0->langchain_google_community) (23.2.0)\n",
      "Requirement already satisfied: frozenlist>=1.1.1 in /opt/conda/envs/pytorch/lib/python3.10/site-packages (from aiohttp<4.0.0,>=3.8.3->langchain-community<0.4.0,>=0.3.0->langchain_google_community) (1.5.0)\n",
      "Requirement already satisfied: multidict<7.0,>=4.5 in /opt/conda/envs/pytorch/lib/python3.10/site-packages (from aiohttp<4.0.0,>=3.8.3->langchain-community<0.4.0,>=0.3.0->langchain_google_community) (6.1.0)\n",
      "Requirement already satisfied: propcache>=0.2.0 in /opt/conda/envs/pytorch/lib/python3.10/site-packages (from aiohttp<4.0.0,>=3.8.3->langchain-community<0.4.0,>=0.3.0->langchain_google_community) (0.2.0)\n",
      "Requirement already satisfied: yarl<2.0,>=1.17.0 in /opt/conda/envs/pytorch/lib/python3.10/site-packages (from aiohttp<4.0.0,>=3.8.3->langchain-community<0.4.0,>=0.3.0->langchain_google_community) (1.17.1)\n",
      "Requirement already satisfied: marshmallow<4.0.0,>=3.18.0 in /opt/conda/envs/pytorch/lib/python3.10/site-packages (from dataclasses-json<0.7,>=0.5.7->langchain-community<0.4.0,>=0.3.0->langchain_google_community) (3.22.0)\n",
      "Requirement already satisfied: typing-inspect<1,>=0.4.0 in /opt/conda/envs/pytorch/lib/python3.10/site-packages (from dataclasses-json<0.7,>=0.5.7->langchain-community<0.4.0,>=0.3.0->langchain_google_community) (0.9.0)\n",
      "Requirement already satisfied: cachetools<6.0,>=2.0.0 in /opt/conda/envs/pytorch/lib/python3.10/site-packages (from google-auth<3.0.dev0,>=2.14.1->google-api-core<3.0.0,>=2.17.1->langchain_google_community) (5.5.0)\n",
      "Requirement already satisfied: pyasn1-modules>=0.2.1 in /opt/conda/envs/pytorch/lib/python3.10/site-packages (from google-auth<3.0.dev0,>=2.14.1->google-api-core<3.0.0,>=2.17.1->langchain_google_community) (0.4.1)\n",
      "Requirement already satisfied: rsa<5,>=3.1.4 in /opt/conda/envs/pytorch/lib/python3.10/site-packages (from google-auth<3.0.dev0,>=2.14.1->google-api-core<3.0.0,>=2.17.1->langchain_google_community) (4.9)\n",
      "Requirement already satisfied: pyparsing!=3.0.0,!=3.0.1,!=3.0.2,!=3.0.3,<4,>=2.4.2 in /opt/conda/envs/pytorch/lib/python3.10/site-packages (from httplib2<1.dev0,>=0.19.0->google-api-python-client<3.0.0,>=2.122.0->langchain_google_community) (3.1.4)\n",
      "Requirement already satisfied: jsonpointer>=1.9 in /opt/conda/envs/pytorch/lib/python3.10/site-packages (from jsonpatch<2.0,>=1.33->langchain-core<0.4,>=0.3.0->langchain_google_community) (3.0.0)\n",
      "Requirement already satisfied: langchain-text-splitters<0.4.0,>=0.3.0 in /opt/conda/envs/pytorch/lib/python3.10/site-packages (from langchain<0.4.0,>=0.3.4->langchain-community<0.4.0,>=0.3.0->langchain_google_community) (0.3.0)\n",
      "Requirement already satisfied: httpx<1,>=0.23.0 in /opt/conda/envs/pytorch/lib/python3.10/site-packages (from langsmith<0.2.0,>=0.1.125->langchain-community<0.4.0,>=0.3.0->langchain_google_community) (0.28.1)\n",
      "Requirement already satisfied: orjson<4.0.0,>=3.9.14 in /opt/conda/envs/pytorch/lib/python3.10/site-packages (from langsmith<0.2.0,>=0.1.125->langchain-community<0.4.0,>=0.3.0->langchain_google_community) (3.10.7)\n",
      "Requirement already satisfied: requests-toolbelt<2.0.0,>=1.0.0 in /opt/conda/envs/pytorch/lib/python3.10/site-packages (from langsmith<0.2.0,>=0.1.125->langchain-community<0.4.0,>=0.3.0->langchain_google_community) (1.0.0)\n",
      "Requirement already satisfied: annotated-types>=0.6.0 in /opt/conda/envs/pytorch/lib/python3.10/site-packages (from pydantic<3.0.0,>=2.5.2->langchain-core<0.4,>=0.3.0->langchain_google_community) (0.7.0)\n",
      "Requirement already satisfied: pydantic-core==2.23.4 in /opt/conda/envs/pytorch/lib/python3.10/site-packages (from pydantic<3.0.0,>=2.5.2->langchain-core<0.4,>=0.3.0->langchain_google_community) (2.23.4)\n",
      "Requirement already satisfied: python-dotenv>=0.21.0 in /opt/conda/envs/pytorch/lib/python3.10/site-packages (from pydantic-settings<3.0.0,>=2.4.0->langchain-community<0.4.0,>=0.3.0->langchain_google_community) (1.0.1)\n",
      "Requirement already satisfied: charset-normalizer<4,>=2 in /opt/conda/envs/pytorch/lib/python3.10/site-packages (from requests<3.0.0.dev0,>=2.18.0->google-api-core<3.0.0,>=2.17.1->langchain_google_community) (3.4.0)\n",
      "Requirement already satisfied: idna<4,>=2.5 in /opt/conda/envs/pytorch/lib/python3.10/site-packages (from requests<3.0.0.dev0,>=2.18.0->google-api-core<3.0.0,>=2.17.1->langchain_google_community) (3.10)\n",
      "Requirement already satisfied: urllib3<3,>=1.21.1 in /opt/conda/envs/pytorch/lib/python3.10/site-packages (from requests<3.0.0.dev0,>=2.18.0->google-api-core<3.0.0,>=2.17.1->langchain_google_community) (2.2.3)\n",
      "Requirement already satisfied: certifi>=2017.4.17 in /opt/conda/envs/pytorch/lib/python3.10/site-packages (from requests<3.0.0.dev0,>=2.18.0->google-api-core<3.0.0,>=2.17.1->langchain_google_community) (2024.8.30)\n",
      "Requirement already satisfied: greenlet!=0.4.17 in /opt/conda/envs/pytorch/lib/python3.10/site-packages (from SQLAlchemy<3,>=1.4->langchain-community<0.4.0,>=0.3.0->langchain_google_community) (3.0.3)\n",
      "Requirement already satisfied: anyio in /opt/conda/envs/pytorch/lib/python3.10/site-packages (from httpx<1,>=0.23.0->langsmith<0.2.0,>=0.1.125->langchain-community<0.4.0,>=0.3.0->langchain_google_community) (4.6.2.post1)\n",
      "Requirement already satisfied: httpcore==1.* in /opt/conda/envs/pytorch/lib/python3.10/site-packages (from httpx<1,>=0.23.0->langsmith<0.2.0,>=0.1.125->langchain-community<0.4.0,>=0.3.0->langchain_google_community) (1.0.6)\n",
      "Requirement already satisfied: h11<0.15,>=0.13 in /opt/conda/envs/pytorch/lib/python3.10/site-packages (from httpcore==1.*->httpx<1,>=0.23.0->langsmith<0.2.0,>=0.1.125->langchain-community<0.4.0,>=0.3.0->langchain_google_community) (0.14.0)\n",
      "Requirement already satisfied: pyasn1<0.7.0,>=0.4.6 in /opt/conda/envs/pytorch/lib/python3.10/site-packages (from pyasn1-modules>=0.2.1->google-auth<3.0.dev0,>=2.14.1->google-api-core<3.0.0,>=2.17.1->langchain_google_community) (0.6.1)\n",
      "Requirement already satisfied: mypy-extensions>=0.3.0 in /opt/conda/envs/pytorch/lib/python3.10/site-packages (from typing-inspect<1,>=0.4.0->dataclasses-json<0.7,>=0.5.7->langchain-community<0.4.0,>=0.3.0->langchain_google_community) (1.0.0)\n",
      "Requirement already satisfied: sniffio>=1.1 in /opt/conda/envs/pytorch/lib/python3.10/site-packages (from anyio->httpx<1,>=0.23.0->langsmith<0.2.0,>=0.1.125->langchain-community<0.4.0,>=0.3.0->langchain_google_community) (1.3.1)\n",
      "Requirement already satisfied: exceptiongroup>=1.0.2 in /opt/conda/envs/pytorch/lib/python3.10/site-packages (from anyio->httpx<1,>=0.23.0->langsmith<0.2.0,>=0.1.125->langchain-community<0.4.0,>=0.3.0->langchain_google_community) (1.2.2)\n",
      "Note: you may need to restart the kernel to use updated packages.\n",
      "Requirement already satisfied: langchain in /opt/conda/envs/pytorch/lib/python3.10/site-packages (0.3.4)\n",
      "Requirement already satisfied: langchain-google-vertexai in /opt/conda/envs/pytorch/lib/python3.10/site-packages (2.0.11)\n",
      "Requirement already satisfied: PyYAML>=5.3 in /opt/conda/envs/pytorch/lib/python3.10/site-packages (from langchain) (6.0.2)\n",
      "Requirement already satisfied: SQLAlchemy<3,>=1.4 in /opt/conda/envs/pytorch/lib/python3.10/site-packages (from langchain) (2.0.35)\n",
      "Requirement already satisfied: aiohttp<4.0.0,>=3.8.3 in /opt/conda/envs/pytorch/lib/python3.10/site-packages (from langchain) (3.11.11)\n",
      "Requirement already satisfied: async-timeout<5.0.0,>=4.0.0 in /opt/conda/envs/pytorch/lib/python3.10/site-packages (from langchain) (4.0.3)\n",
      "Requirement already satisfied: langchain-core<0.4.0,>=0.3.12 in /opt/conda/envs/pytorch/lib/python3.10/site-packages (from langchain) (0.3.31)\n",
      "Requirement already satisfied: langchain-text-splitters<0.4.0,>=0.3.0 in /opt/conda/envs/pytorch/lib/python3.10/site-packages (from langchain) (0.3.0)\n",
      "Requirement already satisfied: langsmith<0.2.0,>=0.1.17 in /opt/conda/envs/pytorch/lib/python3.10/site-packages (from langchain) (0.1.132)\n",
      "Requirement already satisfied: numpy<2,>=1 in /opt/conda/envs/pytorch/lib/python3.10/site-packages (from langchain) (1.26.4)\n",
      "Requirement already satisfied: pydantic<3.0.0,>=2.7.4 in /opt/conda/envs/pytorch/lib/python3.10/site-packages (from langchain) (2.9.2)\n",
      "Requirement already satisfied: requests<3,>=2 in /opt/conda/envs/pytorch/lib/python3.10/site-packages (from langchain) (2.32.3)\n",
      "Requirement already satisfied: tenacity!=8.4.0,<10,>=8.1.0 in /opt/conda/envs/pytorch/lib/python3.10/site-packages (from langchain) (8.5.0)\n",
      "Requirement already satisfied: google-cloud-aiplatform<2.0.0,>=1.75.0 in /home/jupyter/.local/lib/python3.10/site-packages (from langchain-google-vertexai) (1.78.0)\n",
      "Requirement already satisfied: google-cloud-storage<3.0.0,>=2.18.0 in /opt/conda/envs/pytorch/lib/python3.10/site-packages (from langchain-google-vertexai) (2.18.2)\n",
      "Requirement already satisfied: httpx<0.29.0,>=0.28.0 in /opt/conda/envs/pytorch/lib/python3.10/site-packages (from langchain-google-vertexai) (0.28.1)\n",
      "Requirement already satisfied: httpx-sse<0.5.0,>=0.4.0 in /opt/conda/envs/pytorch/lib/python3.10/site-packages (from langchain-google-vertexai) (0.4.0)\n",
      "Requirement already satisfied: aiohappyeyeballs>=2.3.0 in /opt/conda/envs/pytorch/lib/python3.10/site-packages (from aiohttp<4.0.0,>=3.8.3->langchain) (2.4.3)\n",
      "Requirement already satisfied: aiosignal>=1.1.2 in /opt/conda/envs/pytorch/lib/python3.10/site-packages (from aiohttp<4.0.0,>=3.8.3->langchain) (1.3.1)\n",
      "Requirement already satisfied: attrs>=17.3.0 in /opt/conda/envs/pytorch/lib/python3.10/site-packages (from aiohttp<4.0.0,>=3.8.3->langchain) (23.2.0)\n",
      "Requirement already satisfied: frozenlist>=1.1.1 in /opt/conda/envs/pytorch/lib/python3.10/site-packages (from aiohttp<4.0.0,>=3.8.3->langchain) (1.5.0)\n",
      "Requirement already satisfied: multidict<7.0,>=4.5 in /opt/conda/envs/pytorch/lib/python3.10/site-packages (from aiohttp<4.0.0,>=3.8.3->langchain) (6.1.0)\n",
      "Requirement already satisfied: propcache>=0.2.0 in /opt/conda/envs/pytorch/lib/python3.10/site-packages (from aiohttp<4.0.0,>=3.8.3->langchain) (0.2.0)\n",
      "Requirement already satisfied: yarl<2.0,>=1.17.0 in /opt/conda/envs/pytorch/lib/python3.10/site-packages (from aiohttp<4.0.0,>=3.8.3->langchain) (1.17.1)\n",
      "Requirement already satisfied: google-api-core!=2.0.*,!=2.1.*,!=2.2.*,!=2.3.*,!=2.4.*,!=2.5.*,!=2.6.*,!=2.7.*,<3.0.0dev,>=1.34.1 in /opt/conda/envs/pytorch/lib/python3.10/site-packages (from google-api-core[grpc]!=2.0.*,!=2.1.*,!=2.2.*,!=2.3.*,!=2.4.*,!=2.5.*,!=2.6.*,!=2.7.*,<3.0.0dev,>=1.34.1->google-cloud-aiplatform<2.0.0,>=1.75.0->langchain-google-vertexai) (2.21.0)\n",
      "Requirement already satisfied: google-auth<3.0.0dev,>=2.14.1 in /opt/conda/envs/pytorch/lib/python3.10/site-packages (from google-cloud-aiplatform<2.0.0,>=1.75.0->langchain-google-vertexai) (2.35.0)\n",
      "Requirement already satisfied: proto-plus<2.0.0dev,>=1.22.3 in /opt/conda/envs/pytorch/lib/python3.10/site-packages (from google-cloud-aiplatform<2.0.0,>=1.75.0->langchain-google-vertexai) (1.24.0)\n",
      "Requirement already satisfied: protobuf!=4.21.0,!=4.21.1,!=4.21.2,!=4.21.3,!=4.21.4,!=4.21.5,<6.0.0dev,>=3.20.2 in /opt/conda/envs/pytorch/lib/python3.10/site-packages (from google-cloud-aiplatform<2.0.0,>=1.75.0->langchain-google-vertexai) (4.25.5)\n",
      "Requirement already satisfied: packaging>=14.3 in /opt/conda/envs/pytorch/lib/python3.10/site-packages (from google-cloud-aiplatform<2.0.0,>=1.75.0->langchain-google-vertexai) (24.1)\n",
      "Requirement already satisfied: google-cloud-bigquery!=3.20.0,<4.0.0dev,>=1.15.0 in /opt/conda/envs/pytorch/lib/python3.10/site-packages (from google-cloud-aiplatform<2.0.0,>=1.75.0->langchain-google-vertexai) (3.25.0)\n",
      "Requirement already satisfied: google-cloud-resource-manager<3.0.0dev,>=1.3.3 in /opt/conda/envs/pytorch/lib/python3.10/site-packages (from google-cloud-aiplatform<2.0.0,>=1.75.0->langchain-google-vertexai) (1.12.5)\n",
      "Requirement already satisfied: shapely<3.0.0dev in /opt/conda/envs/pytorch/lib/python3.10/site-packages (from google-cloud-aiplatform<2.0.0,>=1.75.0->langchain-google-vertexai) (2.0.6)\n",
      "Requirement already satisfied: typing-extensions in /opt/conda/envs/pytorch/lib/python3.10/site-packages (from google-cloud-aiplatform<2.0.0,>=1.75.0->langchain-google-vertexai) (4.12.2)\n",
      "Requirement already satisfied: docstring-parser<1 in /opt/conda/envs/pytorch/lib/python3.10/site-packages (from google-cloud-aiplatform<2.0.0,>=1.75.0->langchain-google-vertexai) (0.16)\n",
      "Requirement already satisfied: google-cloud-core<3.0dev,>=2.3.0 in /opt/conda/envs/pytorch/lib/python3.10/site-packages (from google-cloud-storage<3.0.0,>=2.18.0->langchain-google-vertexai) (2.4.1)\n",
      "Requirement already satisfied: google-resumable-media>=2.7.2 in /opt/conda/envs/pytorch/lib/python3.10/site-packages (from google-cloud-storage<3.0.0,>=2.18.0->langchain-google-vertexai) (2.7.2)\n",
      "Requirement already satisfied: google-crc32c<2.0dev,>=1.0 in /opt/conda/envs/pytorch/lib/python3.10/site-packages (from google-cloud-storage<3.0.0,>=2.18.0->langchain-google-vertexai) (1.6.0)\n",
      "Requirement already satisfied: anyio in /opt/conda/envs/pytorch/lib/python3.10/site-packages (from httpx<0.29.0,>=0.28.0->langchain-google-vertexai) (4.6.2.post1)\n",
      "Requirement already satisfied: certifi in /opt/conda/envs/pytorch/lib/python3.10/site-packages (from httpx<0.29.0,>=0.28.0->langchain-google-vertexai) (2024.8.30)\n",
      "Requirement already satisfied: httpcore==1.* in /opt/conda/envs/pytorch/lib/python3.10/site-packages (from httpx<0.29.0,>=0.28.0->langchain-google-vertexai) (1.0.6)\n",
      "Requirement already satisfied: idna in /opt/conda/envs/pytorch/lib/python3.10/site-packages (from httpx<0.29.0,>=0.28.0->langchain-google-vertexai) (3.10)\n",
      "Requirement already satisfied: h11<0.15,>=0.13 in /opt/conda/envs/pytorch/lib/python3.10/site-packages (from httpcore==1.*->httpx<0.29.0,>=0.28.0->langchain-google-vertexai) (0.14.0)\n",
      "Requirement already satisfied: jsonpatch<2.0,>=1.33 in /opt/conda/envs/pytorch/lib/python3.10/site-packages (from langchain-core<0.4.0,>=0.3.12->langchain) (1.33)\n",
      "Requirement already satisfied: orjson<4.0.0,>=3.9.14 in /opt/conda/envs/pytorch/lib/python3.10/site-packages (from langsmith<0.2.0,>=0.1.17->langchain) (3.10.7)\n",
      "Requirement already satisfied: requests-toolbelt<2.0.0,>=1.0.0 in /opt/conda/envs/pytorch/lib/python3.10/site-packages (from langsmith<0.2.0,>=0.1.17->langchain) (1.0.0)\n",
      "Requirement already satisfied: annotated-types>=0.6.0 in /opt/conda/envs/pytorch/lib/python3.10/site-packages (from pydantic<3.0.0,>=2.7.4->langchain) (0.7.0)\n",
      "Requirement already satisfied: pydantic-core==2.23.4 in /opt/conda/envs/pytorch/lib/python3.10/site-packages (from pydantic<3.0.0,>=2.7.4->langchain) (2.23.4)\n",
      "Requirement already satisfied: charset-normalizer<4,>=2 in /opt/conda/envs/pytorch/lib/python3.10/site-packages (from requests<3,>=2->langchain) (3.4.0)\n",
      "Requirement already satisfied: urllib3<3,>=1.21.1 in /opt/conda/envs/pytorch/lib/python3.10/site-packages (from requests<3,>=2->langchain) (2.2.3)\n",
      "Requirement already satisfied: greenlet!=0.4.17 in /opt/conda/envs/pytorch/lib/python3.10/site-packages (from SQLAlchemy<3,>=1.4->langchain) (3.0.3)\n",
      "Requirement already satisfied: googleapis-common-protos<2.0.dev0,>=1.56.2 in /opt/conda/envs/pytorch/lib/python3.10/site-packages (from google-api-core!=2.0.*,!=2.1.*,!=2.2.*,!=2.3.*,!=2.4.*,!=2.5.*,!=2.6.*,!=2.7.*,<3.0.0dev,>=1.34.1->google-api-core[grpc]!=2.0.*,!=2.1.*,!=2.2.*,!=2.3.*,!=2.4.*,!=2.5.*,!=2.6.*,!=2.7.*,<3.0.0dev,>=1.34.1->google-cloud-aiplatform<2.0.0,>=1.75.0->langchain-google-vertexai) (1.65.0)\n",
      "Requirement already satisfied: grpcio<2.0dev,>=1.33.2 in /opt/conda/envs/pytorch/lib/python3.10/site-packages (from google-api-core[grpc]!=2.0.*,!=2.1.*,!=2.2.*,!=2.3.*,!=2.4.*,!=2.5.*,!=2.6.*,!=2.7.*,<3.0.0dev,>=1.34.1->google-cloud-aiplatform<2.0.0,>=1.75.0->langchain-google-vertexai) (1.66.1)\n",
      "Requirement already satisfied: grpcio-status<2.0.dev0,>=1.33.2 in /opt/conda/envs/pytorch/lib/python3.10/site-packages (from google-api-core[grpc]!=2.0.*,!=2.1.*,!=2.2.*,!=2.3.*,!=2.4.*,!=2.5.*,!=2.6.*,!=2.7.*,<3.0.0dev,>=1.34.1->google-cloud-aiplatform<2.0.0,>=1.75.0->langchain-google-vertexai) (1.48.2)\n",
      "Requirement already satisfied: cachetools<6.0,>=2.0.0 in /opt/conda/envs/pytorch/lib/python3.10/site-packages (from google-auth<3.0.0dev,>=2.14.1->google-cloud-aiplatform<2.0.0,>=1.75.0->langchain-google-vertexai) (5.5.0)\n",
      "Requirement already satisfied: pyasn1-modules>=0.2.1 in /opt/conda/envs/pytorch/lib/python3.10/site-packages (from google-auth<3.0.0dev,>=2.14.1->google-cloud-aiplatform<2.0.0,>=1.75.0->langchain-google-vertexai) (0.4.1)\n",
      "Requirement already satisfied: rsa<5,>=3.1.4 in /opt/conda/envs/pytorch/lib/python3.10/site-packages (from google-auth<3.0.0dev,>=2.14.1->google-cloud-aiplatform<2.0.0,>=1.75.0->langchain-google-vertexai) (4.9)\n",
      "Requirement already satisfied: python-dateutil<3.0dev,>=2.7.2 in /opt/conda/envs/pytorch/lib/python3.10/site-packages (from google-cloud-bigquery!=3.20.0,<4.0.0dev,>=1.15.0->google-cloud-aiplatform<2.0.0,>=1.75.0->langchain-google-vertexai) (2.9.0.post0)\n",
      "Requirement already satisfied: grpc-google-iam-v1<1.0.0dev,>=0.12.4 in /opt/conda/envs/pytorch/lib/python3.10/site-packages (from google-cloud-resource-manager<3.0.0dev,>=1.3.3->google-cloud-aiplatform<2.0.0,>=1.75.0->langchain-google-vertexai) (0.13.1)\n",
      "Requirement already satisfied: jsonpointer>=1.9 in /opt/conda/envs/pytorch/lib/python3.10/site-packages (from jsonpatch<2.0,>=1.33->langchain-core<0.4.0,>=0.3.12->langchain) (3.0.0)\n",
      "Requirement already satisfied: sniffio>=1.1 in /opt/conda/envs/pytorch/lib/python3.10/site-packages (from anyio->httpx<0.29.0,>=0.28.0->langchain-google-vertexai) (1.3.1)\n",
      "Requirement already satisfied: exceptiongroup>=1.0.2 in /opt/conda/envs/pytorch/lib/python3.10/site-packages (from anyio->httpx<0.29.0,>=0.28.0->langchain-google-vertexai) (1.2.2)\n",
      "Requirement already satisfied: pyasn1<0.7.0,>=0.4.6 in /opt/conda/envs/pytorch/lib/python3.10/site-packages (from pyasn1-modules>=0.2.1->google-auth<3.0.0dev,>=2.14.1->google-cloud-aiplatform<2.0.0,>=1.75.0->langchain-google-vertexai) (0.6.1)\n",
      "Requirement already satisfied: six>=1.5 in /opt/conda/envs/pytorch/lib/python3.10/site-packages (from python-dateutil<3.0dev,>=2.7.2->google-cloud-bigquery!=3.20.0,<4.0.0dev,>=1.15.0->google-cloud-aiplatform<2.0.0,>=1.75.0->langchain-google-vertexai) (1.16.0)\n",
      "Note: you may need to restart the kernel to use updated packages.\n",
      "Requirement already satisfied: langchain-google-community[vertexaisearch] in /opt/conda/envs/pytorch/lib/python3.10/site-packages (2.0.2)\n",
      "Requirement already satisfied: google-api-core<3.0.0,>=2.17.1 in /opt/conda/envs/pytorch/lib/python3.10/site-packages (from langchain-google-community[vertexaisearch]) (2.21.0)\n",
      "Requirement already satisfied: google-api-python-client<3.0.0,>=2.122.0 in /opt/conda/envs/pytorch/lib/python3.10/site-packages (from langchain-google-community[vertexaisearch]) (2.154.0)\n",
      "Requirement already satisfied: google-cloud-core<3.0.0,>=2.4.1 in /opt/conda/envs/pytorch/lib/python3.10/site-packages (from langchain-google-community[vertexaisearch]) (2.4.1)\n",
      "Requirement already satisfied: grpcio<2.0.0,>=1.62.0 in /opt/conda/envs/pytorch/lib/python3.10/site-packages (from langchain-google-community[vertexaisearch]) (1.66.1)\n",
      "Requirement already satisfied: langchain-community<0.4.0,>=0.3.0 in /opt/conda/envs/pytorch/lib/python3.10/site-packages (from langchain-google-community[vertexaisearch]) (0.3.3)\n",
      "Requirement already satisfied: langchain-core<0.4,>=0.3.0 in /opt/conda/envs/pytorch/lib/python3.10/site-packages (from langchain-google-community[vertexaisearch]) (0.3.31)\n",
      "Requirement already satisfied: google-cloud-discoveryengine<0.12.0,>=0.11.13 in /opt/conda/envs/pytorch/lib/python3.10/site-packages (from langchain-google-community[vertexaisearch]) (0.11.14)\n",
      "Requirement already satisfied: googleapis-common-protos<2.0.dev0,>=1.56.2 in /opt/conda/envs/pytorch/lib/python3.10/site-packages (from google-api-core<3.0.0,>=2.17.1->langchain-google-community[vertexaisearch]) (1.65.0)\n",
      "Requirement already satisfied: protobuf!=3.20.0,!=3.20.1,!=4.21.0,!=4.21.1,!=4.21.2,!=4.21.3,!=4.21.4,!=4.21.5,<6.0.0.dev0,>=3.19.5 in /opt/conda/envs/pytorch/lib/python3.10/site-packages (from google-api-core<3.0.0,>=2.17.1->langchain-google-community[vertexaisearch]) (4.25.5)\n",
      "Requirement already satisfied: proto-plus<2.0.0dev,>=1.22.3 in /opt/conda/envs/pytorch/lib/python3.10/site-packages (from google-api-core<3.0.0,>=2.17.1->langchain-google-community[vertexaisearch]) (1.24.0)\n",
      "Requirement already satisfied: google-auth<3.0.dev0,>=2.14.1 in /opt/conda/envs/pytorch/lib/python3.10/site-packages (from google-api-core<3.0.0,>=2.17.1->langchain-google-community[vertexaisearch]) (2.35.0)\n",
      "Requirement already satisfied: requests<3.0.0.dev0,>=2.18.0 in /opt/conda/envs/pytorch/lib/python3.10/site-packages (from google-api-core<3.0.0,>=2.17.1->langchain-google-community[vertexaisearch]) (2.32.3)\n",
      "Requirement already satisfied: httplib2<1.dev0,>=0.19.0 in /opt/conda/envs/pytorch/lib/python3.10/site-packages (from google-api-python-client<3.0.0,>=2.122.0->langchain-google-community[vertexaisearch]) (0.22.0)\n",
      "Requirement already satisfied: google-auth-httplib2<1.0.0,>=0.2.0 in /opt/conda/envs/pytorch/lib/python3.10/site-packages (from google-api-python-client<3.0.0,>=2.122.0->langchain-google-community[vertexaisearch]) (0.2.0)\n",
      "Requirement already satisfied: uritemplate<5,>=3.0.1 in /opt/conda/envs/pytorch/lib/python3.10/site-packages (from google-api-python-client<3.0.0,>=2.122.0->langchain-google-community[vertexaisearch]) (3.0.1)\n",
      "Requirement already satisfied: PyYAML>=5.3 in /opt/conda/envs/pytorch/lib/python3.10/site-packages (from langchain-community<0.4.0,>=0.3.0->langchain-google-community[vertexaisearch]) (6.0.2)\n",
      "Requirement already satisfied: SQLAlchemy<3,>=1.4 in /opt/conda/envs/pytorch/lib/python3.10/site-packages (from langchain-community<0.4.0,>=0.3.0->langchain-google-community[vertexaisearch]) (2.0.35)\n",
      "Requirement already satisfied: aiohttp<4.0.0,>=3.8.3 in /opt/conda/envs/pytorch/lib/python3.10/site-packages (from langchain-community<0.4.0,>=0.3.0->langchain-google-community[vertexaisearch]) (3.11.11)\n",
      "Requirement already satisfied: dataclasses-json<0.7,>=0.5.7 in /opt/conda/envs/pytorch/lib/python3.10/site-packages (from langchain-community<0.4.0,>=0.3.0->langchain-google-community[vertexaisearch]) (0.6.7)\n",
      "Requirement already satisfied: langchain<0.4.0,>=0.3.4 in /opt/conda/envs/pytorch/lib/python3.10/site-packages (from langchain-community<0.4.0,>=0.3.0->langchain-google-community[vertexaisearch]) (0.3.4)\n",
      "Requirement already satisfied: langsmith<0.2.0,>=0.1.125 in /opt/conda/envs/pytorch/lib/python3.10/site-packages (from langchain-community<0.4.0,>=0.3.0->langchain-google-community[vertexaisearch]) (0.1.132)\n",
      "Requirement already satisfied: numpy<2,>=1 in /opt/conda/envs/pytorch/lib/python3.10/site-packages (from langchain-community<0.4.0,>=0.3.0->langchain-google-community[vertexaisearch]) (1.26.4)\n",
      "Requirement already satisfied: pydantic-settings<3.0.0,>=2.4.0 in /opt/conda/envs/pytorch/lib/python3.10/site-packages (from langchain-community<0.4.0,>=0.3.0->langchain-google-community[vertexaisearch]) (2.6.0)\n",
      "Requirement already satisfied: tenacity!=8.4.0,<10,>=8.1.0 in /opt/conda/envs/pytorch/lib/python3.10/site-packages (from langchain-community<0.4.0,>=0.3.0->langchain-google-community[vertexaisearch]) (8.5.0)\n",
      "Requirement already satisfied: jsonpatch<2.0,>=1.33 in /opt/conda/envs/pytorch/lib/python3.10/site-packages (from langchain-core<0.4,>=0.3.0->langchain-google-community[vertexaisearch]) (1.33)\n",
      "Requirement already satisfied: packaging<25,>=23.2 in /opt/conda/envs/pytorch/lib/python3.10/site-packages (from langchain-core<0.4,>=0.3.0->langchain-google-community[vertexaisearch]) (24.1)\n",
      "Requirement already satisfied: pydantic<3.0.0,>=2.5.2 in /opt/conda/envs/pytorch/lib/python3.10/site-packages (from langchain-core<0.4,>=0.3.0->langchain-google-community[vertexaisearch]) (2.9.2)\n",
      "Requirement already satisfied: typing-extensions>=4.7 in /opt/conda/envs/pytorch/lib/python3.10/site-packages (from langchain-core<0.4,>=0.3.0->langchain-google-community[vertexaisearch]) (4.12.2)\n",
      "Requirement already satisfied: aiohappyeyeballs>=2.3.0 in /opt/conda/envs/pytorch/lib/python3.10/site-packages (from aiohttp<4.0.0,>=3.8.3->langchain-community<0.4.0,>=0.3.0->langchain-google-community[vertexaisearch]) (2.4.3)\n",
      "Requirement already satisfied: aiosignal>=1.1.2 in /opt/conda/envs/pytorch/lib/python3.10/site-packages (from aiohttp<4.0.0,>=3.8.3->langchain-community<0.4.0,>=0.3.0->langchain-google-community[vertexaisearch]) (1.3.1)\n",
      "Requirement already satisfied: async-timeout<6.0,>=4.0 in /opt/conda/envs/pytorch/lib/python3.10/site-packages (from aiohttp<4.0.0,>=3.8.3->langchain-community<0.4.0,>=0.3.0->langchain-google-community[vertexaisearch]) (4.0.3)\n",
      "Requirement already satisfied: attrs>=17.3.0 in /opt/conda/envs/pytorch/lib/python3.10/site-packages (from aiohttp<4.0.0,>=3.8.3->langchain-community<0.4.0,>=0.3.0->langchain-google-community[vertexaisearch]) (23.2.0)\n",
      "Requirement already satisfied: frozenlist>=1.1.1 in /opt/conda/envs/pytorch/lib/python3.10/site-packages (from aiohttp<4.0.0,>=3.8.3->langchain-community<0.4.0,>=0.3.0->langchain-google-community[vertexaisearch]) (1.5.0)\n",
      "Requirement already satisfied: multidict<7.0,>=4.5 in /opt/conda/envs/pytorch/lib/python3.10/site-packages (from aiohttp<4.0.0,>=3.8.3->langchain-community<0.4.0,>=0.3.0->langchain-google-community[vertexaisearch]) (6.1.0)\n",
      "Requirement already satisfied: propcache>=0.2.0 in /opt/conda/envs/pytorch/lib/python3.10/site-packages (from aiohttp<4.0.0,>=3.8.3->langchain-community<0.4.0,>=0.3.0->langchain-google-community[vertexaisearch]) (0.2.0)\n",
      "Requirement already satisfied: yarl<2.0,>=1.17.0 in /opt/conda/envs/pytorch/lib/python3.10/site-packages (from aiohttp<4.0.0,>=3.8.3->langchain-community<0.4.0,>=0.3.0->langchain-google-community[vertexaisearch]) (1.17.1)\n",
      "Requirement already satisfied: marshmallow<4.0.0,>=3.18.0 in /opt/conda/envs/pytorch/lib/python3.10/site-packages (from dataclasses-json<0.7,>=0.5.7->langchain-community<0.4.0,>=0.3.0->langchain-google-community[vertexaisearch]) (3.22.0)\n",
      "Requirement already satisfied: typing-inspect<1,>=0.4.0 in /opt/conda/envs/pytorch/lib/python3.10/site-packages (from dataclasses-json<0.7,>=0.5.7->langchain-community<0.4.0,>=0.3.0->langchain-google-community[vertexaisearch]) (0.9.0)\n",
      "Requirement already satisfied: grpcio-status<2.0.dev0,>=1.33.2 in /opt/conda/envs/pytorch/lib/python3.10/site-packages (from google-api-core[grpc]!=2.0.*,!=2.1.*,!=2.10.*,!=2.2.*,!=2.3.*,!=2.4.*,!=2.5.*,!=2.6.*,!=2.7.*,!=2.8.*,!=2.9.*,<3.0.0dev,>=1.34.1->google-cloud-discoveryengine<0.12.0,>=0.11.13->langchain-google-community[vertexaisearch]) (1.48.2)\n",
      "Requirement already satisfied: cachetools<6.0,>=2.0.0 in /opt/conda/envs/pytorch/lib/python3.10/site-packages (from google-auth<3.0.dev0,>=2.14.1->google-api-core<3.0.0,>=2.17.1->langchain-google-community[vertexaisearch]) (5.5.0)\n",
      "Requirement already satisfied: pyasn1-modules>=0.2.1 in /opt/conda/envs/pytorch/lib/python3.10/site-packages (from google-auth<3.0.dev0,>=2.14.1->google-api-core<3.0.0,>=2.17.1->langchain-google-community[vertexaisearch]) (0.4.1)\n",
      "Requirement already satisfied: rsa<5,>=3.1.4 in /opt/conda/envs/pytorch/lib/python3.10/site-packages (from google-auth<3.0.dev0,>=2.14.1->google-api-core<3.0.0,>=2.17.1->langchain-google-community[vertexaisearch]) (4.9)\n",
      "Requirement already satisfied: pyparsing!=3.0.0,!=3.0.1,!=3.0.2,!=3.0.3,<4,>=2.4.2 in /opt/conda/envs/pytorch/lib/python3.10/site-packages (from httplib2<1.dev0,>=0.19.0->google-api-python-client<3.0.0,>=2.122.0->langchain-google-community[vertexaisearch]) (3.1.4)\n",
      "Requirement already satisfied: jsonpointer>=1.9 in /opt/conda/envs/pytorch/lib/python3.10/site-packages (from jsonpatch<2.0,>=1.33->langchain-core<0.4,>=0.3.0->langchain-google-community[vertexaisearch]) (3.0.0)\n",
      "Requirement already satisfied: langchain-text-splitters<0.4.0,>=0.3.0 in /opt/conda/envs/pytorch/lib/python3.10/site-packages (from langchain<0.4.0,>=0.3.4->langchain-community<0.4.0,>=0.3.0->langchain-google-community[vertexaisearch]) (0.3.0)\n",
      "Requirement already satisfied: httpx<1,>=0.23.0 in /opt/conda/envs/pytorch/lib/python3.10/site-packages (from langsmith<0.2.0,>=0.1.125->langchain-community<0.4.0,>=0.3.0->langchain-google-community[vertexaisearch]) (0.28.1)\n",
      "Requirement already satisfied: orjson<4.0.0,>=3.9.14 in /opt/conda/envs/pytorch/lib/python3.10/site-packages (from langsmith<0.2.0,>=0.1.125->langchain-community<0.4.0,>=0.3.0->langchain-google-community[vertexaisearch]) (3.10.7)\n",
      "Requirement already satisfied: requests-toolbelt<2.0.0,>=1.0.0 in /opt/conda/envs/pytorch/lib/python3.10/site-packages (from langsmith<0.2.0,>=0.1.125->langchain-community<0.4.0,>=0.3.0->langchain-google-community[vertexaisearch]) (1.0.0)\n",
      "Requirement already satisfied: annotated-types>=0.6.0 in /opt/conda/envs/pytorch/lib/python3.10/site-packages (from pydantic<3.0.0,>=2.5.2->langchain-core<0.4,>=0.3.0->langchain-google-community[vertexaisearch]) (0.7.0)\n",
      "Requirement already satisfied: pydantic-core==2.23.4 in /opt/conda/envs/pytorch/lib/python3.10/site-packages (from pydantic<3.0.0,>=2.5.2->langchain-core<0.4,>=0.3.0->langchain-google-community[vertexaisearch]) (2.23.4)\n",
      "Requirement already satisfied: python-dotenv>=0.21.0 in /opt/conda/envs/pytorch/lib/python3.10/site-packages (from pydantic-settings<3.0.0,>=2.4.0->langchain-community<0.4.0,>=0.3.0->langchain-google-community[vertexaisearch]) (1.0.1)\n",
      "Requirement already satisfied: charset-normalizer<4,>=2 in /opt/conda/envs/pytorch/lib/python3.10/site-packages (from requests<3.0.0.dev0,>=2.18.0->google-api-core<3.0.0,>=2.17.1->langchain-google-community[vertexaisearch]) (3.4.0)\n",
      "Requirement already satisfied: idna<4,>=2.5 in /opt/conda/envs/pytorch/lib/python3.10/site-packages (from requests<3.0.0.dev0,>=2.18.0->google-api-core<3.0.0,>=2.17.1->langchain-google-community[vertexaisearch]) (3.10)\n",
      "Requirement already satisfied: urllib3<3,>=1.21.1 in /opt/conda/envs/pytorch/lib/python3.10/site-packages (from requests<3.0.0.dev0,>=2.18.0->google-api-core<3.0.0,>=2.17.1->langchain-google-community[vertexaisearch]) (2.2.3)\n",
      "Requirement already satisfied: certifi>=2017.4.17 in /opt/conda/envs/pytorch/lib/python3.10/site-packages (from requests<3.0.0.dev0,>=2.18.0->google-api-core<3.0.0,>=2.17.1->langchain-google-community[vertexaisearch]) (2024.8.30)\n",
      "Requirement already satisfied: greenlet!=0.4.17 in /opt/conda/envs/pytorch/lib/python3.10/site-packages (from SQLAlchemy<3,>=1.4->langchain-community<0.4.0,>=0.3.0->langchain-google-community[vertexaisearch]) (3.0.3)\n",
      "Requirement already satisfied: anyio in /opt/conda/envs/pytorch/lib/python3.10/site-packages (from httpx<1,>=0.23.0->langsmith<0.2.0,>=0.1.125->langchain-community<0.4.0,>=0.3.0->langchain-google-community[vertexaisearch]) (4.6.2.post1)\n",
      "Requirement already satisfied: httpcore==1.* in /opt/conda/envs/pytorch/lib/python3.10/site-packages (from httpx<1,>=0.23.0->langsmith<0.2.0,>=0.1.125->langchain-community<0.4.0,>=0.3.0->langchain-google-community[vertexaisearch]) (1.0.6)\n",
      "Requirement already satisfied: h11<0.15,>=0.13 in /opt/conda/envs/pytorch/lib/python3.10/site-packages (from httpcore==1.*->httpx<1,>=0.23.0->langsmith<0.2.0,>=0.1.125->langchain-community<0.4.0,>=0.3.0->langchain-google-community[vertexaisearch]) (0.14.0)\n",
      "Requirement already satisfied: pyasn1<0.7.0,>=0.4.6 in /opt/conda/envs/pytorch/lib/python3.10/site-packages (from pyasn1-modules>=0.2.1->google-auth<3.0.dev0,>=2.14.1->google-api-core<3.0.0,>=2.17.1->langchain-google-community[vertexaisearch]) (0.6.1)\n",
      "Requirement already satisfied: mypy-extensions>=0.3.0 in /opt/conda/envs/pytorch/lib/python3.10/site-packages (from typing-inspect<1,>=0.4.0->dataclasses-json<0.7,>=0.5.7->langchain-community<0.4.0,>=0.3.0->langchain-google-community[vertexaisearch]) (1.0.0)\n",
      "Requirement already satisfied: sniffio>=1.1 in /opt/conda/envs/pytorch/lib/python3.10/site-packages (from anyio->httpx<1,>=0.23.0->langsmith<0.2.0,>=0.1.125->langchain-community<0.4.0,>=0.3.0->langchain-google-community[vertexaisearch]) (1.3.1)\n",
      "Requirement already satisfied: exceptiongroup>=1.0.2 in /opt/conda/envs/pytorch/lib/python3.10/site-packages (from anyio->httpx<1,>=0.23.0->langsmith<0.2.0,>=0.1.125->langchain-community<0.4.0,>=0.3.0->langchain-google-community[vertexaisearch]) (1.2.2)\n",
      "Note: you may need to restart the kernel to use updated packages.\n"
     ]
    }
   ],
   "source": [
    "%pip install --upgrade --user --quiet google-cloud-aiplatform\n",
    "%pip install google-cloud-discoveryengine\n",
    "%pip install langchain_google_community\n",
    "%pip install langchain langchain-google-vertexai\n",
    "%pip install langchain-google-community[vertexaisearch]"
   ]
  },
  {
   "cell_type": "code",
   "execution_count": 22,
   "id": "88e73a8b-12f9-4397-80ac-cf8381f6d9be",
   "metadata": {
    "tags": []
   },
   "outputs": [],
   "source": [
    "from google.api_core.client_options import ClientOptions\n",
    "from google.cloud import discoveryengine_v1 as discoveryengine\n",
    "from langchain.chains import RetrievalQAWithSourcesChain\n",
    "from langchain_google_community import VertexAISearchRetriever\n",
    "from langchain_google_vertexai import VertexAI\n",
    "from vertexai.generative_models import (\n",
    "    GenerationConfig,\n",
    "    GenerativeModel,\n",
    "    SafetySetting,\n",
    "    Tool,\n",
    ")\n",
    "import vertexai.preview.generative_models as generative_models"
   ]
  },
  {
   "cell_type": "markdown",
   "id": "59759092-c1ba-431f-9afa-733602acfc22",
   "metadata": {
    "tags": []
   },
   "source": [
    "### Helper functions"
   ]
  },
  {
   "cell_type": "code",
   "execution_count": 23,
   "id": "7aa77d52-b4dd-4402-a7aa-ec1bf0b00afe",
   "metadata": {
    "tags": []
   },
   "outputs": [],
   "source": [
    "import os\n",
    "import vertexai\n",
    "from vertexai.preview.language_models import TextGenerationModel\n",
    "from vertexai.preview.generative_models import GenerativeModel, Part\n",
    "\n",
    "LOCATION = REGION = 'us-central1'\n",
    "\n",
    "vertexai.init(project=PROJECT_ID, location=LOCATION)\n",
    "parameters = {\n",
    "    \"candidate_count\": 1,\n",
    "    \"max_output_tokens\": 1024,\n",
    "    \"temperature\": 1,\n",
    "    \"top_k\": 40\n",
    "}\n",
    "\n",
    "# @st.cache_resource\n",
    "\n",
    "def generate_palm_unicorn_v1(input_prompt):\n",
    "    \n",
    "    model = TextGenerationModel.from_pretrained(\"text-unicorn@001\")\n",
    "\n",
    "    response = model.predict(\n",
    "        input_prompt,\n",
    "        **parameters\n",
    "    )\n",
    "    print(f\"Response from Model: {response.text}\")\n",
    "    \n",
    "    return(response.text)\n",
    "\n",
    "def generate(input_prompt):\n",
    "    model = GenerativeModel(\"gemini-ultra\")\n",
    "    responses = model.generate_content(\n",
    "        input_prompt ,\n",
    "    generation_config={\n",
    "        \"max_output_tokens\": 2048,\n",
    "        \"temperature\": 0.2,\n",
    "        \"top_p\": 1,\n",
    "        \"top_k\": 32\n",
    "    },\n",
    "        safety_settings=[],\n",
    "        stream=True,\n",
    "    )\n",
    "    \n",
    "    all_response  = []\n",
    "    \n",
    "    for response in responses:\n",
    "        # print(response.text, end=\"\")\n",
    "        all_response.append(response.text)\n",
    "    \n",
    "    # print (all_response)\n",
    "    \n",
    "    return(\" \".join(all_response))\n",
    "    \n",
    "\n",
    "def generate_pro(input_prompt):\n",
    "    model = GenerativeModel(\"gemini-pro\")\n",
    "    responses = model.generate_content(\n",
    "    input_prompt,\n",
    "    generation_config={\n",
    "        \"max_output_tokens\": 2048,\n",
    "        \"temperature\": 0.2,\n",
    "        \"top_p\": 1\n",
    "    },stream=True,)\n",
    "    \n",
    "    all_response  = []\n",
    "    \n",
    "    for response in responses:\n",
    "        all_response.append(response.text)\n",
    "    \n",
    "    # print (all_response)\n",
    "    \n",
    "    return(\" \".join(all_response))"
   ]
  },
  {
   "cell_type": "code",
   "execution_count": 24,
   "id": "69facd95-3cb7-436f-9c5c-e4d790f37ca8",
   "metadata": {
    "tags": []
   },
   "outputs": [],
   "source": [
    "# Helper Function to create data store\n",
    "def create_data_store(\n",
    "    project_id: str, location: str, data_store_name: str, data_store_id: str\n",
    "):\n",
    "    # Create a client\n",
    "    client_options = (\n",
    "        ClientOptions(api_endpoint=f\"{location}-discoveryengine.googleapis.com\")\n",
    "        if location != \"global\"\n",
    "        else None\n",
    "    )\n",
    "    client = discoveryengine.DataStoreServiceClient(client_options=client_options)\n",
    "\n",
    "    # Initialize request argument(s)\n",
    "    data_store = discoveryengine.DataStore(\n",
    "        display_name=data_store_name,\n",
    "        industry_vertical=\"GENERIC\",\n",
    "        content_config=\"CONTENT_REQUIRED\",\n",
    "    )\n",
    "\n",
    "    request = discoveryengine.CreateDataStoreRequest(\n",
    "        parent=discoveryengine.DataStoreServiceClient.collection_path(\n",
    "            project_id, location, \"default_collection\"\n",
    "        ),\n",
    "        data_store=data_store,\n",
    "        data_store_id=data_store_id,\n",
    "    )\n",
    "    operation = client.create_data_store(request=request)\n",
    "\n",
    "    # Make the request\n",
    "    # The try block is necessary to prevent execution from haulting due to an error being thrown when the datastore takes a while to instantiate\n",
    "    try:\n",
    "        response = operation.result(timeout=90)\n",
    "    except:\n",
    "        print(\"long-running operation\")"
   ]
  },
  {
   "cell_type": "code",
   "execution_count": 25,
   "id": "707b0999-27c8-4a67-99e3-466d0eb582e3",
   "metadata": {
    "tags": []
   },
   "outputs": [],
   "source": [
    "# Helper Function to import documents from GCS bucket into datastore\n",
    "def import_documents(\n",
    "    project_id: str,\n",
    "    location: str,\n",
    "    data_store_id: str,\n",
    "    gcs_uri: str,\n",
    "):\n",
    "    # Create a client\n",
    "    client_options = (\n",
    "        ClientOptions(api_endpoint=f\"{location}-discoveryengine.googleapis.com\")\n",
    "        if location != \"global\"\n",
    "        else None\n",
    "    )\n",
    "    client = discoveryengine.DocumentServiceClient(client_options=client_options)\n",
    "\n",
    "    # The full resource name of the search engine branch.\n",
    "    # e.g. projects/{project}/locations/{location}/dataStores/{data_store_id}/branches/{branch}\n",
    "    parent = client.branch_path(\n",
    "        project=project_id,\n",
    "        location=location,\n",
    "        data_store=data_store_id,\n",
    "        branch=\"default_branch\",\n",
    "    )\n",
    "\n",
    "    source_documents = [f\"{gcs_uri}/*\"]\n",
    "\n",
    "    request = discoveryengine.ImportDocumentsRequest(\n",
    "        parent=parent,\n",
    "        gcs_source=discoveryengine.GcsSource(\n",
    "            input_uris=source_documents, data_schema=\"content\"\n",
    "        ),\n",
    "        # Options: `FULL`, `INCREMENTAL`\n",
    "        reconciliation_mode=discoveryengine.ImportDocumentsRequest.ReconciliationMode.INCREMENTAL,\n",
    "    )\n",
    "\n",
    "    # Make the request\n",
    "    operation = client.import_documents(request=request)\n",
    "\n",
    "    response = operation.result()\n",
    "\n",
    "    # Once the operation is complete,\n",
    "    # get information from operation metadata\n",
    "    metadata = discoveryengine.ImportDocumentsMetadata(operation.metadata)\n",
    "\n",
    "    # Handle the response\n",
    "    return operation.operation.name"
   ]
  },
  {
   "cell_type": "markdown",
   "id": "832e95c1-6439-4c62-a112-b0c5d1ed3d47",
   "metadata": {
    "tags": []
   },
   "source": [
    "## 1. Configure a Datastore for our documents"
   ]
  },
  {
   "cell_type": "markdown",
   "id": "f92fe42f-f917-4f9e-9072-6e3105fcb21d",
   "metadata": {
    "tags": []
   },
   "source": [
    "### Upload the book PDFs onto Google Cloud Storage (GCS) bucket\n",
    "In this section, we will be doing the following:\n",
    "1. Create a Cloud Storage bucket\n",
    "2. Upload the PDFs of the insurance policies into the Cloud Storage bucket\n",
    "3. Verify that the PDFs have been uploaded successfully\n",
    "4. Create an empty datastore and import the PDFs documents into the datastore"
   ]
  },
  {
   "cell_type": "code",
   "execution_count": 26,
   "id": "e228f9be-b258-4e9f-abf9-7eca814d1b92",
   "metadata": {
    "tags": []
   },
   "outputs": [
    {
     "name": "stdout",
     "output_type": "stream",
     "text": [
      "Creating gs://my-project-0004-346516-pruclaim/...\n",
      "Copying file://./books/Claim Adjurdication FWA - example doc.pdf [Content-Type=application/pdf]...\n",
      "/ [1 files][165.8 KiB/165.8 KiB]                                                \n",
      "Operation completed over 1 objects/165.8 KiB.                                    \n"
     ]
    }
   ],
   "source": [
    "# Create a Cloud Storage Bucket\n",
    "!gcloud storage buckets create $GCS_BUCKET_URI --location=$GCS_BUCKET_LOCATION\n",
    "\n",
    "# Upload the PDFs located in the books/ directory into the GCS bucket that you created\n",
    "!gsutil cp -r ./books/* $GCS_BUCKET_URI"
   ]
  },
  {
   "cell_type": "code",
   "execution_count": 27,
   "id": "7157d0d3-af2f-4d57-9f32-de1ad57e7ad2",
   "metadata": {
    "tags": []
   },
   "outputs": [
    {
     "name": "stdout",
     "output_type": "stream",
     "text": [
      "gs://my-project-0004-346516-pruclaim/Claim Adjurdication FWA - example doc.pdf\n"
     ]
    }
   ],
   "source": [
    "# Verify that all Books 1 to 7 are uploaded to the GCS bucket (8 files in total, 2 for Part 1)\n",
    "!gsutil ls $GCS_BUCKET_URI"
   ]
  },
  {
   "cell_type": "code",
   "execution_count": 28,
   "id": "f6ccca82-4f07-4c3f-983e-3f5a82453cbb",
   "metadata": {
    "tags": []
   },
   "outputs": [
    {
     "name": "stdout",
     "output_type": "stream",
     "text": [
      "Datastore name: pruclaim-pru-datastore\n",
      "Datastore ID: pruclaim-pru-datastore-id\n"
     ]
    }
   ],
   "source": [
    "# The datastore name can only contain lowercase letters, numbers, and hyphens\n",
    "DATASTORE_NAME = f\"{UNIQUE_PREFIX}-pru-datastore\"\n",
    "DATASTORE_ID = f\"{DATASTORE_NAME}-id\"\n",
    "LOCATION = 'global'\n",
    "\n",
    "# print variables for verification\n",
    "print(f\"Datastore name: {DATASTORE_NAME}\")\n",
    "print(f\"Datastore ID: {DATASTORE_ID}\")"
   ]
  },
  {
   "cell_type": "code",
   "execution_count": 29,
   "id": "62465d05-8632-419f-939a-303bc78a9dc2",
   "metadata": {
    "tags": []
   },
   "outputs": [
    {
     "name": "stdout",
     "output_type": "stream",
     "text": [
      "Datastore pruclaim-pru-datastore-id successfully created\n"
     ]
    }
   ],
   "source": [
    "# Create the datastore\n",
    "try:\n",
    "    create_data_store(PROJECT_ID, LOCATION, DATASTORE_NAME, DATASTORE_ID)\n",
    "    print(f\"Datastore {DATASTORE_ID} successfully created\")\n",
    "except:\n",
    "    print(\"if not running first time, DATASTORE_ID may already exist\")"
   ]
  },
  {
   "cell_type": "code",
   "execution_count": 30,
   "id": "ddcf6570-fb7b-451a-8216-8a8094a98614",
   "metadata": {
    "tags": []
   },
   "outputs": [
    {
     "data": {
      "text/plain": [
       "'projects/255766800726/locations/global/collections/default_collection/dataStores/pruclaim-pru-datastore-id/branches/0/operations/import-documents-16638814400183662611'"
      ]
     },
     "execution_count": 30,
     "metadata": {},
     "output_type": "execute_result"
    }
   ],
   "source": [
    "# Start the import of documents into datastore\n",
    "import_documents(PROJECT_ID, LOCATION, DATASTORE_ID, GCS_BUCKET_URI)"
   ]
  },
  {
   "cell_type": "markdown",
   "id": "c0d660a2-22b0-4ebd-b8ff-be6c8519ed74",
   "metadata": {
    "tags": []
   },
   "source": [
    "## 2. Create a Search Engine for your datastore\n",
    "In this section, you will be creating a Search app which we will connect to the Pru datastore that we have created earlier. \n",
    "\n",
    "For the search app, we will set the search_tier to Enterprise tier and to enable advanced LLM features. Enterprise tier is required to get extractive answers from a search query and advanced LLM features are required to sumarize search results."
   ]
  },
  {
   "cell_type": "code",
   "execution_count": 31,
   "id": "e0cf35ab-abb7-491c-a544-1f485a4c7833",
   "metadata": {
    "tags": []
   },
   "outputs": [],
   "source": [
    "# Helper function to create a Vertex Search Engine\n",
    "def create_engine(\n",
    "    project_id: str, location: str, data_store_name: str, data_store_id: str\n",
    "):\n",
    "    # Create a client\n",
    "    client_options = (\n",
    "        ClientOptions(api_endpoint=f\"{location}-discoveryengine.googleapis.com\")\n",
    "        if location != \"global\"\n",
    "        else None\n",
    "    )\n",
    "    client = discoveryengine.EngineServiceClient(client_options=client_options)\n",
    "\n",
    "    # Initialize request argument(s)\n",
    "    config = discoveryengine.Engine.SearchEngineConfig(\n",
    "        search_tier=\"SEARCH_TIER_ENTERPRISE\", search_add_ons=[\"SEARCH_ADD_ON_LLM\"]\n",
    "    )\n",
    "\n",
    "    engine = discoveryengine.Engine(\n",
    "        display_name=data_store_name,\n",
    "        solution_type=\"SOLUTION_TYPE_SEARCH\",\n",
    "        industry_vertical=\"GENERIC\",\n",
    "        data_store_ids=[data_store_id],\n",
    "        search_engine_config=config,\n",
    "    )\n",
    "\n",
    "    request = discoveryengine.CreateEngineRequest(\n",
    "        parent=discoveryengine.DataStoreServiceClient.collection_path(\n",
    "            project_id, location, \"default_collection\"\n",
    "        ),\n",
    "        engine=engine,\n",
    "        engine_id=engine.display_name,\n",
    "    )\n",
    "\n",
    "    # Make the request\n",
    "    operation = client.create_engine(request=request)\n",
    "    response = operation.result(timeout=90)"
   ]
  },
  {
   "cell_type": "code",
   "execution_count": 32,
   "id": "2487d037-9b14-4c2f-865f-4c42a3b16a6d",
   "metadata": {
    "tags": []
   },
   "outputs": [],
   "source": [
    "# Create the Vertex Search Engine\n",
    "try:\n",
    "    create_engine(PROJECT_ID, LOCATION, DATASTORE_NAME, DATASTORE_ID)\n",
    "except:\n",
    "    print(\"if not running first time, create_engine may already exist\")"
   ]
  },
  {
   "cell_type": "markdown",
   "id": "274d9dad-5758-4447-925a-5fc59d3cb520",
   "metadata": {},
   "source": [
    "## 3. Query your datastore through the Search app"
   ]
  },
  {
   "cell_type": "code",
   "execution_count": 33,
   "id": "ee26540f-72d3-418c-954e-859cdb54bb3f",
   "metadata": {
    "tags": []
   },
   "outputs": [],
   "source": [
    "from typing import List\n",
    "\n",
    "def search_sample(\n",
    "    project_id: str,\n",
    "    location: str,\n",
    "    data_store_id: str,\n",
    "    search_query: str,\n",
    ") -> List[discoveryengine.SearchResponse]:\n",
    "    #  For more information, refer to:\n",
    "    # https://cloud.google.com/generative-ai-app-builder/docs/locations#specify_a_multi-region_for_your_data_store\n",
    "    client_options = (\n",
    "        ClientOptions(api_endpoint=f\"{location}-discoveryengine.googleapis.com\")\n",
    "        if LOCATION != \"global\"\n",
    "        else None\n",
    "    )\n",
    "\n",
    "    # Create a client\n",
    "    client = discoveryengine.SearchServiceClient(client_options=client_options)\n",
    "\n",
    "    # The full resource name of the search engine serving config\n",
    "    # e.g. projects/{project_id}/locations/{location}/dataStores/{data_store_id}/servingConfigs/{serving_config_id}\n",
    "    serving_config = client.serving_config_path(\n",
    "        project=project_id,\n",
    "        location=location,\n",
    "        data_store=data_store_id,\n",
    "        serving_config=\"default_config\",\n",
    "    )\n",
    "\n",
    "    # Optional: Configuration options for search\n",
    "    # Refer to the `ContentSearchSpec` reference for all supported fields:\n",
    "    # https://cloud.google.com/python/docs/reference/discoveryengine/latest/google.cloud.discoveryengine_v1.types.SearchRequest.ContentSearchSpec\n",
    "    content_search_spec = discoveryengine.SearchRequest.ContentSearchSpec(\n",
    "        # For information about snippets, refer to:\n",
    "        # https://cloud.google.com/generative-ai-app-builder/docs/snippets\n",
    "        snippet_spec=discoveryengine.SearchRequest.ContentSearchSpec.SnippetSpec(\n",
    "            return_snippet=True\n",
    "        ),\n",
    "        # For information about search summaries, refer to:\n",
    "        # https://cloud.google.com/generative-ai-app-builder/docs/get-search-summaries\n",
    "        summary_spec=discoveryengine.SearchRequest.ContentSearchSpec.SummarySpec(\n",
    "            summary_result_count=5,\n",
    "            include_citations=True,\n",
    "            ignore_adversarial_query=True,\n",
    "            ignore_non_summary_seeking_query=False,\n",
    "        ),\n",
    "    )\n",
    "\n",
    "    # Refer to the `SearchRequest` reference for all supported fields:\n",
    "    # https://cloud.google.com/python/docs/reference/discoveryengine/latest/google.cloud.discoveryengine_v1.types.SearchRequest\n",
    "    request = discoveryengine.SearchRequest(\n",
    "        serving_config=serving_config,\n",
    "        query=search_query,\n",
    "        page_size=10,\n",
    "        content_search_spec=content_search_spec,\n",
    "        query_expansion_spec=discoveryengine.SearchRequest.QueryExpansionSpec(\n",
    "            condition=discoveryengine.SearchRequest.QueryExpansionSpec.Condition.AUTO,\n",
    "        ),\n",
    "        spell_correction_spec=discoveryengine.SearchRequest.SpellCorrectionSpec(\n",
    "            mode=discoveryengine.SearchRequest.SpellCorrectionSpec.Mode.AUTO\n",
    "        ),\n",
    "    )\n",
    "\n",
    "    response = client.search(request)\n",
    "    return response"
   ]
  },
  {
   "cell_type": "code",
   "execution_count": 38,
   "id": "df8ba78c-a51a-4349-b07a-66ff0f4ca81a",
   "metadata": {
    "tags": []
   },
   "outputs": [
    {
     "name": "stdout",
     "output_type": "stream",
     "text": [
      "The applicable insurance claim for surgery is the one that covers hospital stays, surgery, and related services provided during an inpatient admission. [1] The insurance company name and payer ID are essential for routing the claim correctly. [1] The group number, if applicable, identifies the employer or organization sponsoring the plan. [1] The plan type, such as HMO or PPO, impacts network status, referral requirements, and coverage levels. [1] The claim adjudication process verifies if the service is a covered benefit and applies copays, coinsurance, and deductibles as per the plan. [1] \n",
      "\n"
     ]
    }
   ],
   "source": [
    "# Ask a sample query to get an answer from the search engine!\n",
    "query = \"Who is the applicable insurance claim for surgery?\"\n",
    "\n",
    "print(search_sample(PROJECT_ID, LOCATION, DATASTORE_ID, query).summary.summary_text)"
   ]
  },
  {
   "cell_type": "code",
   "execution_count": 39,
   "id": "85f9a855-c830-4378-aa21-9d9f5630cbd5",
   "metadata": {
    "tags": []
   },
   "outputs": [],
   "source": [
    "MODEL = \"gemini-1.5-pro-002\"  # @param {type:\"string\"}\n",
    "\n",
    "llm = VertexAI(model_name=MODEL)\n",
    "\n",
    "retriever = VertexAISearchRetriever(\n",
    "    project_id=PROJECT_ID,\n",
    "    location_id=LOCATION,\n",
    "    data_store_id=DATASTORE_ID,\n",
    "    get_extractive_answers=True,\n",
    "    max_documents=10,\n",
    "    max_extractive_segment_count=1,\n",
    "    max_extractive_answer_count=5,\n",
    ")"
   ]
  },
  {
   "cell_type": "code",
   "execution_count": 40,
   "id": "44c6c13a-2f49-47ad-8aa8-9ae13d997a43",
   "metadata": {
    "tags": []
   },
   "outputs": [
    {
     "data": {
      "text/plain": [
       "{'answer': \"I don't know.  The provided text discusses claim adjudication and insurance details, but does not specify who the applicable insurance claim is for in the case of surgery.\\n\\n\",\n",
       " 'sources': 'gs://my-project-0004-346516-pruclaim/Claim Adjurdication FWA - example doc.pdf4, gs://my-project-0004-346516-pruclaim/Claim Adjurdication FWA - example doc.pdf2, gs://my-project-0004-346516-pruclaim/Claim Adjurdication FWA - example doc.pdf1'}"
      ]
     },
     "execution_count": 40,
     "metadata": {},
     "output_type": "execute_result"
    }
   ],
   "source": [
    "retrieval_qa_with_sources = RetrievalQAWithSourcesChain.from_chain_type(\n",
    "    llm=llm, chain_type=\"stuff\", retriever=retriever\n",
    ")\n",
    "\n",
    "retrieval_qa_with_sources.invoke(query, return_only_outputs=True)"
   ]
  },
  {
   "cell_type": "markdown",
   "id": "9820d9d3-5267-4107-be49-055ce53e84b1",
   "metadata": {
    "tags": []
   },
   "source": [
    "## 3. Let's try asking a list of questions located in a CSV file"
   ]
  },
  {
   "cell_type": "markdown",
   "id": "0b46b0ec-0fc4-42e9-9fff-8a8a30f7654a",
   "metadata": {
    "tags": []
   },
   "source": [
    "### Run through all the sample questions in the CSV file"
   ]
  },
  {
   "cell_type": "code",
   "execution_count": 49,
   "id": "b093465c-64b5-4202-b311-75db280e6e5f",
   "metadata": {
    "scrolled": true,
    "tags": []
   },
   "outputs": [
    {
     "name": "stdout",
     "output_type": "stream",
     "text": [
      "iteration # 0\n",
      "What is the purpose of this insurance policy?\n",
      "iteration # 1\n",
      "Who is the policyholder?\n",
      "iteration # 2\n",
      "What is the policy period?\n",
      "iteration # 3\n",
      "What are the benefits covered under this policy?\n",
      "iteration # 4\n",
      "What is the premium amount?\n",
      "iteration # 5\n",
      "How frequently must the premium be paid?\n",
      "iteration # 6\n",
      "What is the sum assured?\n",
      "iteration # 7\n",
      "Are there any exclusions to the policy?\n",
      "iteration # 8\n",
      "What is the process for filing a claim?\n",
      "iteration # 9\n",
      "What documents are required for a claim?\n",
      "iteration # 10\n",
      "What is the grace period for premium payment?\n",
      "iteration # 11\n",
      "Can the policy be surrendered?\n",
      "iteration # 12\n",
      "What is the surrender value?\n",
      "iteration # 13\n",
      "Are there any riders available for this policy?\n",
      "iteration # 14\n",
      "What is the contact information for customer service?\n",
      "iteration # 15\n",
      "What is the procedure for changing the nominee?\n",
      "iteration # 16\n",
      "Is there a free-look period for this policy?\n",
      "iteration # 17\n",
      "What are the tax implications of this policy?\n",
      "iteration # 18\n",
      "Can the policy be assigned to another party?\n",
      "iteration # 19\n",
      "What happens if the policyholder stops paying premiums?\n",
      "iteration # 20\n",
      "What is the definition of \"critical illness\" in this policy?\n",
      "iteration # 21\n",
      "How does the policy define \"disability\"?\n",
      "iteration # 22\n",
      "What is the waiting period for benefits?\n",
      "iteration # 23\n",
      "Is there a limit on the number of claims?\n",
      "iteration # 24\n",
      "What are the renewal terms?\n"
     ]
    }
   ],
   "source": [
    "import pandas as pd\n",
    "import time\n",
    "\n",
    "filename = \"./insurance_qa.csv\"\n",
    "df_qa_VertexSearch = pd.read_csv(filename, sep =\"|\")\n",
    "\n",
    "System_Prompts = \"\"\" You are an expert in reading insurance policy documents, but only provide evidences from the information provide and do not use an other information\n",
    "so here are some search results : \n",
    "\"\"\"\n",
    "\n",
    "Question_Prompts = \"\"\" -- Based on information above help to answer following user question\n",
    "\"\"\"\n",
    "\n",
    "# Iterate through the first 10 questions\n",
    "for i in range(0, df_qa_VertexSearch.shape[0]):\n",
    "    \n",
    "    print(\"iteration #\", i)\n",
    "    time.sleep(2)  \n",
    "    \n",
    "    RAG_query = df_qa_VertexSearch.loc[i,'Question'] \n",
    "    \n",
    "    print(RAG_query)\n",
    "    try: \n",
    "        RAG_results = search_sample(PROJECT_ID, LOCATION, DATASTORE_ID, RAG_query).summary.summary_text\n",
    "    except:\n",
    "        RAG_results = \"No results\"\n",
    "        \n",
    "    Gemini_query = System_Prompts + \" \" + RAG_results + \" \" + Question_Prompts + \" \" + df_qa_VertexSearch.loc[i,'Question']\n",
    "    \n",
    "    try:        \n",
    "        df_qa_VertexSearch.loc[i, \"Gemini_pro_model_output_v1\"] = generate_pro(Gemini_query)\n",
    "\n",
    "    except:\n",
    "        df_qa_VertexSearch.loc[i, \"Gemini_pro_model_output_v1\"] = \"No answer found\"\n",
    "        print(\"long-running operation\")\n",
    "\n",
    "\n",
    "\n",
    "output1 = \"./insurance_qa_results.csv\"\n",
    "\n",
    "df_qa_VertexSearch.to_csv(output1)"
   ]
  },
  {
   "cell_type": "code",
   "execution_count": 48,
   "id": "9379b637-57fc-4074-997b-e3ecbfa61b25",
   "metadata": {
    "tags": []
   },
   "outputs": [
    {
     "data": {
      "text/plain": [
       "25"
      ]
     },
     "execution_count": 48,
     "metadata": {},
     "output_type": "execute_result"
    }
   ],
   "source": []
  },
  {
   "cell_type": "markdown",
   "id": "6136097e-e01f-46fa-8cc7-d0a2b5f4a6a1",
   "metadata": {},
   "source": [
    "# 4. Deploy the Search app as a Streamlit app to Cloud Run\n",
    "For this section, please head to the [Google Cloud console](https://console.cloud.google.com/gen-app-builder/engines) to continue!"
   ]
  }
 ],
 "metadata": {
  "environment": {
   "kernel": "conda-env-pytorch-pytorch",
   "name": "workbench-notebooks.m125",
   "type": "gcloud",
   "uri": "us-docker.pkg.dev/deeplearning-platform-release/gcr.io/workbench-notebooks:m125"
  },
  "kernelspec": {
   "display_name": "PyTorch 1-13 (Local)",
   "language": "python",
   "name": "conda-env-pytorch-pytorch"
  },
  "language_info": {
   "codemirror_mode": {
    "name": "ipython",
    "version": 3
   },
   "file_extension": ".py",
   "mimetype": "text/x-python",
   "name": "python",
   "nbconvert_exporter": "python",
   "pygments_lexer": "ipython3",
   "version": "3.10.15"
  }
 },
 "nbformat": 4,
 "nbformat_minor": 5
}
